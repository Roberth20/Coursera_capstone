{
 "cells": [
  {
   "cell_type": "markdown",
   "id": "fc78c2d3-eed8-4ae4-af44-34ce5cdd07ba",
   "metadata": {},
   "source": [
    "# Capstone Project for Data Science\n",
    "This notebook is developed to complete the final project in Data science from IBM"
   ]
  },
  {
   "cell_type": "code",
   "execution_count": 1,
   "id": "3011822c-1045-4fbe-9141-bff201729698",
   "metadata": {},
   "outputs": [
    {
     "name": "stdout",
     "output_type": "stream",
     "text": [
      "Hello Capstone Project Course!\n"
     ]
    }
   ],
   "source": [
    "import pandas as pd\n",
    "import numpy as np\n",
    "print(\"Hello Capstone Project Course!\")"
   ]
  },
  {
   "cell_type": "code",
   "execution_count": null,
   "id": "4039df0d-dff0-4580-98ec-ccb23a59c12e",
   "metadata": {},
   "outputs": [],
   "source": []
  }
 ],
 "metadata": {
  "kernelspec": {
   "display_name": "Python 3",
   "language": "python",
   "name": "python3"
  },
  "language_info": {
   "codemirror_mode": {
    "name": "ipython",
    "version": 3
   },
   "file_extension": ".py",
   "mimetype": "text/x-python",
   "name": "python",
   "nbconvert_exporter": "python",
   "pygments_lexer": "ipython3",
   "version": "3.7.4"
  }
 },
 "nbformat": 4,
 "nbformat_minor": 5
}
